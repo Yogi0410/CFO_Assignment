{
 "cells": [
  {
   "cell_type": "code",
   "execution_count": 1,
   "metadata": {},
   "outputs": [
    {
     "name": "stdout",
     "output_type": "stream",
     "text": [
      "      Month Expense Category  Amount Region   Sales Type Aging Bucket\n",
      "0  Jan-2024       Operations   29649  North  133208   AR   31-60 days\n",
      "1  Feb-2024       Operations   44820  North  147346   AR    0-30 days\n",
      "2  Mar-2024         Research   39549   East   50755   AP     90+ days\n",
      "3  Apr-2024        Marketing   36253   East   80775   AR     90+ days\n",
      "4  May-2024         Research   16469   West  103696   AR    0-30 days\n"
     ]
    }
   ],
   "source": [
    "import pandas as pd\n",
    "\n",
    "# Load the data from the Excel file\n",
    "file_path = \"mock_data.xlsx\"  # Replace this with the actual path if needed\n",
    "df = pd.read_excel(file_path)\n",
    "\n",
    "# Display the first few rows to understand the structure\n",
    "print(df.head())\n"
   ]
  },
  {
   "cell_type": "code",
   "execution_count": 2,
   "metadata": {},
   "outputs": [
    {
     "name": "stdout",
     "output_type": "stream",
     "text": [
      "  Expense Category  Amount\n",
      "0               IT   18908\n",
      "1        Marketing  100752\n",
      "2       Operations  155694\n",
      "3         Research   71238\n"
     ]
    }
   ],
   "source": [
    "expense_summary = df.groupby(\"Expense Category\")[\"Amount\"].sum().reset_index()\n",
    "print(expense_summary)\n"
   ]
  },
  {
   "cell_type": "code",
   "execution_count": 3,
   "metadata": {},
   "outputs": [
    {
     "name": "stdout",
     "output_type": "stream",
     "text": [
      "  Region   Sales\n",
      "0   East  235524\n",
      "1  North  280554\n",
      "2  South  221195\n",
      "3   West  373955\n"
     ]
    }
   ],
   "source": [
    "sales_summary = df.groupby(\"Region\")[\"Sales\"].sum().reset_index()\n",
    "print(sales_summary)\n"
   ]
  },
  {
   "cell_type": "code",
   "execution_count": 4,
   "metadata": {},
   "outputs": [
    {
     "name": "stdout",
     "output_type": "stream",
     "text": [
      "  Aging Bucket  Amount\n",
      "0    0-30 days  119555\n",
      "1   31-60 days   67828\n",
      "2     90+ days  159209\n"
     ]
    }
   ],
   "source": [
    "ap_ar_summary = df.groupby(\"Aging Bucket\")[\"Amount\"].sum().reset_index()\n",
    "print(ap_ar_summary)\n"
   ]
  },
  {
   "cell_type": "code",
   "execution_count": 5,
   "metadata": {},
   "outputs": [],
   "source": [
    "import plotly.express as px\n",
    "\n",
    "expense_chart = px.bar(\n",
    "    expense_summary,\n",
    "    x=\"Expense Category\",\n",
    "    y=\"Amount\",\n",
    "    title=\"Expense Summary\",\n",
    "    labels={\"Amount\": \"Total Amount\"}\n",
    ")\n"
   ]
  },
  {
   "cell_type": "code",
   "execution_count": 6,
   "metadata": {},
   "outputs": [],
   "source": [
    "sales_chart = px.pie(\n",
    "    sales_summary,\n",
    "    names=\"Region\",\n",
    "    values=\"Sales\",\n",
    "    title=\"Sales by Region\"\n",
    ")\n"
   ]
  },
  {
   "cell_type": "code",
   "execution_count": 7,
   "metadata": {},
   "outputs": [],
   "source": [
    "ap_ar_chart = px.bar(\n",
    "    ap_ar_summary,\n",
    "    x=\"Aging Bucket\",\n",
    "    y=\"Amount\",\n",
    "    title=\"AP and AR Aging\",\n",
    "    labels={\"Amount\": \"Total Amount\"}\n",
    ")\n"
   ]
  },
  {
   "cell_type": "code",
   "execution_count": 8,
   "metadata": {},
   "outputs": [
    {
     "name": "stderr",
     "output_type": "stream",
     "text": [
      "c:\\Python312\\Lib\\site-packages\\dash\\dash.py:579: UserWarning:\n",
      "\n",
      "JupyterDash is deprecated, use Dash instead.\n",
      "See https://dash.plotly.com/dash-in-jupyter for more details.\n",
      "\n"
     ]
    },
    {
     "data": {
      "text/html": [
       "\n",
       "        <iframe\n",
       "            width=\"100%\"\n",
       "            height=\"650\"\n",
       "            src=\"http://127.0.0.1:8050/\"\n",
       "            frameborder=\"0\"\n",
       "            allowfullscreen\n",
       "            \n",
       "        ></iframe>\n",
       "        "
      ],
      "text/plain": [
       "<IPython.lib.display.IFrame at 0x1902f02be30>"
      ]
     },
     "metadata": {},
     "output_type": "display_data"
    },
    {
     "data": {
      "text/html": [
       "\n",
       "        <iframe\n",
       "            width=\"100%\"\n",
       "            height=\"650\"\n",
       "            src=\"http://127.0.0.1:8050/\"\n",
       "            frameborder=\"0\"\n",
       "            allowfullscreen\n",
       "            \n",
       "        ></iframe>\n",
       "        "
      ],
      "text/plain": [
       "<IPython.lib.display.IFrame at 0x19030c8c350>"
      ]
     },
     "metadata": {},
     "output_type": "display_data"
    }
   ],
   "source": [
    "from jupyter_dash import JupyterDash\n",
    "from dash import dcc, html\n",
    "\n",
    "# Initialize the Dash app\n",
    "app = JupyterDash(__name__)\n",
    "\n",
    "# Define the layout\n",
    "app.layout = html.Div([\n",
    "    html.H1(\"CFO Dashboard\", style={\"textAlign\": \"center\"}),\n",
    "\n",
    "    # Expenses Chart\n",
    "    html.Div([\n",
    "        html.H3(\"Expense Summary\"),\n",
    "        dcc.Graph(figure=expense_chart)\n",
    "    ]),\n",
    "\n",
    "    # Sales Chart\n",
    "    html.Div([\n",
    "        html.H3(\"Sales Summary\"),\n",
    "        dcc.Graph(figure=sales_chart)\n",
    "    ]),\n",
    "\n",
    "    # AP/AR Aging Chart\n",
    "    html.Div([\n",
    "        html.H3(\"AP and AR Aging\"),\n",
    "        dcc.Graph(figure=ap_ar_chart)\n",
    "    ]),\n",
    "])\n",
    "\n",
    "# Run the app\n",
    "app.run_server(mode=\"inline\")\n"
   ]
  }
 ],
 "metadata": {
  "kernelspec": {
   "display_name": "Python 3",
   "language": "python",
   "name": "python3"
  },
  "language_info": {
   "codemirror_mode": {
    "name": "ipython",
    "version": 3
   },
   "file_extension": ".py",
   "mimetype": "text/x-python",
   "name": "python",
   "nbconvert_exporter": "python",
   "pygments_lexer": "ipython3",
   "version": "3.12.1"
  }
 },
 "nbformat": 4,
 "nbformat_minor": 2
}
